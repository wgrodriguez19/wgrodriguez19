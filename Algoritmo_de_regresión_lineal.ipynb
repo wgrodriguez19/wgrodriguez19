{
  "nbformat": 4,
  "nbformat_minor": 0,
  "metadata": {
    "colab": {
      "name": "Algoritmo de regresión lineal ",
      "provenance": [],
      "authorship_tag": "ABX9TyMaWfYTYf8pc2rLQY2xIKp+",
      "include_colab_link": true
    },
    "kernelspec": {
      "name": "python3",
      "display_name": "Python 3"
    },
    "language_info": {
      "name": "python"
    }
  },
  "cells": [
    {
      "cell_type": "markdown",
      "metadata": {
        "id": "view-in-github",
        "colab_type": "text"
      },
      "source": [
        "<a href=\"https://colab.research.google.com/github/wgrodriguez19/wgrodriguez19/blob/main/Algoritmo_de_regresi%C3%B3n_lineal.ipynb\" target=\"_parent\"><img src=\"https://colab.research.google.com/assets/colab-badge.svg\" alt=\"Open In Colab\"/></a>"
      ]
    },
    {
      "cell_type": "code",
      "execution_count": 21,
      "metadata": {
        "id": "ARZKCgGH_5EM"
      },
      "outputs": [],
      "source": [
        "import numpy as np\n",
        "import matplotlib.pyplot as plt\n",
        "\n"
      ]
    },
    {
      "cell_type": "code",
      "source": [
        ""
      ],
      "metadata": {
        "id": "O3WhiOR5ITiT"
      },
      "execution_count": null,
      "outputs": []
    },
    {
      "cell_type": "code",
      "source": [
        "def estimate_b0_b1 (x, y):\n",
        "  n = np.size(x)\n",
        "#obtenemos los promedios de x y de y \n",
        "  m_x, m_y = np.mean(x), np.mean(y)\n",
        "\n",
        "#calcular sumatoria de XY y mi sumatoria de XX\n",
        "  sumatoria_xy = np.sum((x-m_x)*(y-m_y)) \n",
        "  sumatoria_xx = np.sum(x*(x-m_x))\n",
        "\n",
        "#coeficientes de regresion \n",
        "  b_1 = sumatoria_xy / sumatoria_xx \n",
        "  b_0 =m_y - b_1*m_x\n",
        "\n",
        "  return(b_0,b_1)\n"
      ],
      "metadata": {
        "id": "37tRbmCYCAXw"
      },
      "execution_count": 25,
      "outputs": []
    },
    {
      "cell_type": "code",
      "source": [
        "#funcion de graficado \n",
        "def plot_regression(x, y, b):\n",
        "   plt.scatter(x, y, color = \"g\", marker =\"o\", s=30)\n",
        "\n",
        "   y_pred = b[0]+b[1]*x\n",
        "   plt.plot(x, y_pred, color =\"b\")\n",
        "\n",
        "  #etiquetado\n",
        "   plt.xlabel(\"x-independiente\")\n",
        "   plt.ylabel(\"y-dependiente\")\n",
        "   plt.show()\n"
      ],
      "metadata": {
        "id": "8x5lLlUXIt4c"
      },
      "execution_count": 59,
      "outputs": []
    },
    {
      "cell_type": "code",
      "source": [
        "#codigo MAIN\n",
        "def main():\n",
        "  #DATASET\n",
        "   x=np.array([1,2,3,4,5])\n",
        "   y=np.array([2,3,5,6,5])\n",
        "\n",
        "   #obtenemos b1 y b2\n",
        "   b = estimate_b0_b1(x, y)\n",
        "   print(\"Los valores b0 = {}, b1 = {}\".format(b[0],b[1]))\n",
        "\n",
        "   #Graficamos nuestra linea de regresion \n",
        "   plot_regression(x, y, b)\n",
        "if __name__==\"__main__\":\n",
        "     main()\n"
      ],
      "metadata": {
        "colab": {
          "base_uri": "https://localhost:8080/",
          "height": 296
        },
        "id": "KX59-aThKz7a",
        "outputId": "46649991-868f-4c53-ab81-32b6885b9a85"
      },
      "execution_count": 60,
      "outputs": [
        {
          "output_type": "stream",
          "name": "stdout",
          "text": [
            "Los valores b0 = 1.5, b1 = 0.9\n"
          ]
        },
        {
          "output_type": "display_data",
          "data": {
            "image/png": "[encoded data removed]",
            "text/plain": [
              "<Figure size 432x288 with 1 Axes>"
            ]
          },
          "metadata": {
            "needs_background": "light"
          }
        }
      ]
    }
  ]
}